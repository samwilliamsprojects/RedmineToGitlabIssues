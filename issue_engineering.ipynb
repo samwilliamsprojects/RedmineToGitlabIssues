{
 "cells": [
  {
   "cell_type": "code",
   "execution_count": 188,
   "id": "1abf4b41",
   "metadata": {},
   "outputs": [],
   "source": [
    "import pandas as pd \n",
    "issues = pd.read_csv(\"issues.csv\", sep=\";\", encoding='cp1252', names=['issue_id', 'assigned_person', 'title', 'description', 'parent issue', 'time created', 'closed_on'])\n",
    "comments = pd.read_csv(\"comments.csv\", sep=\";\", encoding='cp1252', names=['id', 'issue', 'person', 'comment', 'time'])\n",
    "people = pd.read_csv(\"people.csv\", sep=\";\", encoding='cp1252', names=['number', 'first', 'last'])\n",
    "attachments = pd.read_csv(\"attachments.csv\", sep=\";\", encoding='cp1252', names=['filename', 'diskname', 'user_id', 'date', 'month', 'issue', 'description'])"
   ]
  },
  {
   "cell_type": "markdown",
   "id": "b4561a1b",
   "metadata": {},
   "source": [
    "### Combines names for concision"
   ]
  },
  {
   "cell_type": "code",
   "execution_count": 189,
   "id": "bba59365",
   "metadata": {},
   "outputs": [],
   "source": [
    "people['name'] = 'assigned to: ' + people['first'] + ' ' + people['last']"
   ]
  },
  {
   "cell_type": "markdown",
   "id": "d222d36e",
   "metadata": {},
   "source": [
    "## We have imported the issues database (created when an issue is created) and the comments (a seperate database that holds comments related to each issue), as well as People, which shows who corresponds to which number in the database and Attachments for any relevant file attachments. For attachments, we will not be able to transfer these directly to Gitlab, but can reference them for clarity when viewing old Issues"
   ]
  },
  {
   "cell_type": "markdown",
   "id": "65a0cff4",
   "metadata": {},
   "source": [
    "## The import of the sql dump has a lot of issues, like randomly adding words in the \"issue_id\" section. This gets rid of those by checking if the id is numeric, and eliminating the row if it is not. This removes ~1/3 of the databases rows, of which are all nonsense"
   ]
  },
  {
   "cell_type": "code",
   "execution_count": 190,
   "id": "1c3a2ec8",
   "metadata": {},
   "outputs": [],
   "source": [
    "for i, j in issues.iterrows(): \n",
    "    k = j['issue_id']\n",
    "    if k.isnumeric():\n",
    "        pass\n",
    "    else:\n",
    "        issues = issues.drop(labels=i, axis=0)"
   ]
  },
  {
   "cell_type": "markdown",
   "id": "ccb168d4",
   "metadata": {},
   "source": [
    "## This will match people with their number as referenced in the MySQL database"
   ]
  },
  {
   "cell_type": "code",
   "execution_count": 191,
   "id": "7af71e6f",
   "metadata": {},
   "outputs": [],
   "source": [
    "people['number'] = people['number'].astype(str)"
   ]
  },
  {
   "cell_type": "code",
   "execution_count": 192,
   "id": "e91b8bef",
   "metadata": {},
   "outputs": [],
   "source": [
    "attachments['user_id'] = attachments['user_id'].astype(str)"
   ]
  },
  {
   "cell_type": "code",
   "execution_count": 193,
   "id": "b5dcaaa8",
   "metadata": {},
   "outputs": [],
   "source": [
    "# changes names for both the People and Attachments dataframes\n",
    "for i, j in people.iterrows():\n",
    "    k = j['number']\n",
    "    issues.loc[issues['assigned_person'] == k, 'assigned_person'] = j[\"name\"]\n",
    "    \n",
    "for i, j in people.iterrows():\n",
    "    k = j['number']\n",
    "    attachments.loc[attachments['user_id'] == k, 'user_id'] = j['name']"
   ]
  },
  {
   "cell_type": "markdown",
   "id": "9b3a9f4c",
   "metadata": {},
   "source": [
    "## Formats the time that comments and attachments were created"
   ]
  },
  {
   "cell_type": "code",
   "execution_count": 194,
   "id": "fe845723",
   "metadata": {},
   "outputs": [],
   "source": [
    "attachments['date'] = attachments['date'].str[:15]\n",
    "comments['time'] = comments['time'].str[:19]"
   ]
  },
  {
   "cell_type": "markdown",
   "id": "ce58c28b",
   "metadata": {},
   "source": [
    "## Sometimes a person is not assigned to an issue for some reason. I could not find any logic in why, so I just replaced with an error message"
   ]
  },
  {
   "cell_type": "code",
   "execution_count": 195,
   "id": "236cc38c",
   "metadata": {},
   "outputs": [],
   "source": [
    "issues[\"assigned_person\"] = issues[\"assigned_person\"].replace(['\\\\N'], 'ERROR: person not found')"
   ]
  },
  {
   "cell_type": "markdown",
   "id": "69866161",
   "metadata": {},
   "source": [
    "## Can use Gitlab QuickActions to assign people to an issue (and many other functionalities), so I do that here. When uploaded, putting \"/assign @name\" in the description will asign it to the username that follows the @. Since a lot of this is historical record keeping, if the user is not at TechX or doesnt have access to our Gitlab, it will remain as \"assigned to: *user*\""
   ]
  },
  {
   "cell_type": "code",
   "execution_count": 196,
   "id": "0caf67b4",
   "metadata": {},
   "outputs": [],
   "source": [
    "issues[\"assigned_person\"] = issues[\"assigned_person\"].replace(['assigned to: *Person*'], '/assign @GITLAB_USERNAME')\n",
    "# Repeat this for every person in Gitlab"
   ]
  },
  {
   "cell_type": "markdown",
   "id": "1119fb82",
   "metadata": {},
   "source": [
    "## For some reason time sometimes isnt found. This fills in that NaN error and also fills in for when no parent issue is assigned, or when an issue is still open."
   ]
  },
  {
   "cell_type": "code",
   "execution_count": 197,
   "id": "8e54dae2",
   "metadata": {},
   "outputs": [],
   "source": [
    "issues['time created'] = issues['time created'].fillna(\"time not found\")\n",
    "issues['parent issue'] = issues['parent issue'].fillna(\"no parent issue\")\n",
    "issues['closed_on'] = issues['closed_on'].fillna('1') # if closed, substituted w/ 1."
   ]
  },
  {
   "cell_type": "markdown",
   "id": "c3979a67",
   "metadata": {},
   "source": [
    "## Here I begin formatting to make data more readable"
   ]
  },
  {
   "cell_type": "code",
   "execution_count": 198,
   "id": "94fd76d2",
   "metadata": {},
   "outputs": [],
   "source": [
    "issues[\"description\"] = issues[\"assigned_person\"] + \"\\ntime created: \" + issues[\"time created\"] + \"\\n\" + issues[\"description\"] "
   ]
  },
  {
   "cell_type": "markdown",
   "id": "2fa94457",
   "metadata": {},
   "source": [
    "## Reverses the comments dataframe so that they are in order when I attach the comments to the issues"
   ]
  },
  {
   "cell_type": "code",
   "execution_count": 199,
   "id": "bc60d3d3",
   "metadata": {},
   "outputs": [],
   "source": [
    "comments = comments.iloc[::-1] "
   ]
  },
  {
   "cell_type": "code",
   "execution_count": 200,
   "id": "44b935b3",
   "metadata": {},
   "outputs": [],
   "source": [
    "comments.reset_index(drop=True, inplace=True)"
   ]
  },
  {
   "cell_type": "markdown",
   "id": "849b2bd9",
   "metadata": {},
   "source": [
    "## Attachments are not included at all. They are in a separate file system and database, and are not referenced in the databases used up to this point. Here I will structure them and add them to the relevant issues/comments\n",
    "\n",
    "### To access those, you will have to have go to Redmine or have access to the Redmine file system."
   ]
  },
  {
   "cell_type": "markdown",
   "id": "70567989",
   "metadata": {},
   "source": [
    "### Creating attachments column to put in the Issues dataframe"
   ]
  },
  {
   "cell_type": "code",
   "execution_count": 201,
   "id": "b10ccca6",
   "metadata": {},
   "outputs": [],
   "source": [
    "issues.insert(0, \"attached_files\", \"\")"
   ]
  },
  {
   "cell_type": "code",
   "execution_count": 202,
   "id": "7130d01d",
   "metadata": {},
   "outputs": [],
   "source": [
    "attachments['description'] = attachments['description'].fillna('')"
   ]
  },
  {
   "cell_type": "markdown",
   "id": "0a80f87a",
   "metadata": {},
   "source": [
    "## Attaches the attachment to its associating issue and describes how to access it, while also showing the user  and the filename"
   ]
  },
  {
   "cell_type": "code",
   "execution_count": 203,
   "id": "d8cf4e2c",
   "metadata": {},
   "outputs": [],
   "source": [
    "for i, j in attachments.iterrows():\n",
    "    description = 'Find attachments at your Redmine by searching the title of this Issue\\nrelevant attachments: ' + 'user: ' + j['user_id'] + ' '\n",
    "    row = issues.index[j[\"issue\"] == issues[\"issue_id\"]].tolist()\n",
    "    if j['description']:\n",
    "        description = description + \"; attachment description: \" + j['description']\n",
    "    if not row:\n",
    "        pass\n",
    "    else:\n",
    "        for i in range(len(row)):\n",
    "            issues.at[row[i], \"attached_files\"] = issues.at[row[i], \"attached_files\"] + description + \"; file name: \" + j[\"filename\"]"
   ]
  },
  {
   "cell_type": "markdown",
   "id": "f189eee1",
   "metadata": {},
   "source": [
    "## Comments \"id\" section have the same issue as the titled issues; random id's become interrupted by nonsense words. This drops those rows.\n",
    "\n",
    "## The Issues data had some missing descriptions that were only given titles. We kept these because that could be an intentional input, creating an issue with no description. But for comments, theres a lot of empty comments due to different updates, and this begins the process of dropping all those"
   ]
  },
  {
   "cell_type": "code",
   "execution_count": 204,
   "id": "4824a988",
   "metadata": {},
   "outputs": [],
   "source": [
    "for i, j in comments.iterrows(): \n",
    "    k = j['id']\n",
    "    if k.isnumeric():\n",
    "        pass\n",
    "    else:\n",
    "        comments = comments.drop(labels=i, axis=0)\n",
    "\n",
    "for i, j in issues.iterrows():\n",
    "    desc = j['description']\n",
    "    if type(desc) == str:\n",
    "        pass\n",
    "    else:\n",
    "        issues[\"description\"] = issues[\"description\"].fillna(\"\")"
   ]
  },
  {
   "cell_type": "markdown",
   "id": "96d4c544",
   "metadata": {},
   "source": [
    "## Replaces peoples numbers with their names just like I did above in the Titled issues"
   ]
  },
  {
   "cell_type": "code",
   "execution_count": 205,
   "id": "2f29c0c5",
   "metadata": {},
   "outputs": [],
   "source": [
    "for i, j in people.iterrows():\n",
    "    k = j[\"number\"]\n",
    "    comments.loc[comments[\"person\"] == k, 'person'] = j[\"name\"]"
   ]
  },
  {
   "cell_type": "code",
   "execution_count": 206,
   "id": "d54e7d83",
   "metadata": {},
   "outputs": [],
   "source": [
    "comments[\"person\"] = comments[\"person\"].replace(['assigned to: *Person*'], '@GITLAB_USERNAME')\n",
    "# Repeat for every person in your Gitlab"
   ]
  },
  {
   "cell_type": "markdown",
   "id": "1cef598b",
   "metadata": {},
   "source": [
    "## Cleaning data\n",
    "### the sql dump seems to have a lot of issues that won't resolve, like missing data (namely \"time\") and empty comments due to status updates of an issue (ex. changing from 20% done to 30% done). This next block gets rid of them all"
   ]
  },
  {
   "cell_type": "code",
   "execution_count": 207,
   "id": "57610e3e",
   "metadata": {},
   "outputs": [],
   "source": [
    "for i, j in comments.iterrows():\n",
    "    k = j['comment']\n",
    "    p = j['time']\n",
    "    \n",
    "    # gets rid of escape characters, that arise with status changes like \"new\" to \"resolved\" in redmine\n",
    "    if k == \"\\\\N\":\n",
    "        comments = comments.drop(labels=i, axis=0)\n",
    "        \n",
    "    # Checks if comment is \"NaN\" (empty), drops it if so\n",
    "    elif type(k) == str:\n",
    "        pass\n",
    "    else:\n",
    "        comments = comments.drop(labels=i, axis=0)\n",
    "        \n",
    "    # checks if time is \"NaN\". No solution for this unfortunately, but need to keep the comment\n",
    "    if type(p) == str:\n",
    "        pass\n",
    "    else:\n",
    "        comments = comments.replace([p], \"time not found\")\n",
    "    "
   ]
  },
  {
   "cell_type": "markdown",
   "id": "091e9697",
   "metadata": {},
   "source": [
    "# Beginning formatting of the comments to be attached to the issues."
   ]
  },
  {
   "cell_type": "code",
   "execution_count": 208,
   "id": "9ce1788d",
   "metadata": {},
   "outputs": [],
   "source": [
    "comments[\"full_comment\"] = \"\\n\\n\" + \"User: \" + comments[\"person\"] + \"\\ntime & date: \" + comments[\"time\"] + \"\\ncomment: \" + comments[\"comment\"]"
   ]
  },
  {
   "cell_type": "markdown",
   "id": "62d8370e",
   "metadata": {},
   "source": [
    "### Iterates through the comments and then appends it to the corresponding issue"
   ]
  },
  {
   "cell_type": "code",
   "execution_count": 209,
   "id": "50e4b019",
   "metadata": {},
   "outputs": [],
   "source": [
    "for i,j in comments.iterrows():\n",
    "    row = issues.index[issues[\"issue_id\"] == j[\"issue\"]].tolist()\n",
    "    issues.at[row[0], \"description\"] = issues.at[row[0], \"description\"] + j[\"full_comment\"]\n",
    "    \n",
    "for i, j in issues.iterrows():\n",
    "    j['description'] = j['description'] + j['attached_files']"
   ]
  },
  {
   "cell_type": "code",
   "execution_count": 214,
   "id": "229f5f2b",
   "metadata": {},
   "outputs": [],
   "source": [
    "for i, j in issues.iterrows():\n",
    "    if j['closed_on'] != '\\\\N':\n",
    "        j[\"description\"] = \"Issue was closed on: \" + j[\"closed_on\"] + \"\\n\\n\" + j[\"description\"]"
   ]
  },
  {
   "cell_type": "code",
   "execution_count": 215,
   "id": "1fb96880",
   "metadata": {},
   "outputs": [],
   "source": [
    "issues = issues.drop(['attached_files', 'issue_id', 'assigned_person', 'parent issue', 'time created', 'closed_on', 'parent_epic'], axis=1)"
   ]
  },
  {
   "cell_type": "code",
   "execution_count": null,
   "id": "45147c10",
   "metadata": {},
   "outputs": [],
   "source": [
    "issues.to_csv(\"filename\", sep=',')"
   ]
  }
 ],
 "metadata": {
  "kernelspec": {
   "display_name": "Python 3",
   "language": "python",
   "name": "python3"
  },
  "language_info": {
   "codemirror_mode": {
    "name": "ipython",
    "version": 3
   },
   "file_extension": ".py",
   "mimetype": "text/x-python",
   "name": "python",
   "nbconvert_exporter": "python",
   "pygments_lexer": "ipython3",
   "version": "3.9.12"
  }
 },
 "nbformat": 4,
 "nbformat_minor": 5
}
